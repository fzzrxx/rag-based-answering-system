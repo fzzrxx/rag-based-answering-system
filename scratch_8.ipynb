{
 "cells": [
  {
   "metadata": {
    "ExecuteTime": {
     "end_time": "2025-07-14T20:24:46.105688Z",
     "start_time": "2025-07-14T20:24:46.103126Z"
    }
   },
   "cell_type": "code",
   "source": [
    "import os\n",
    "import glob\n",
    "from dotenv import load_dotenv\n",
    "import gradio as gr"
   ],
   "id": "88c980090526547f",
   "outputs": [],
   "execution_count": 2
  },
  {
   "metadata": {
    "ExecuteTime": {
     "end_time": "2025-07-14T20:24:47.369991Z",
     "start_time": "2025-07-14T20:24:47.315888Z"
    }
   },
   "cell_type": "code",
   "source": [
    "from langchain.document_loaders import DirectoryLoader, TextLoader\n",
    "from langchain.text_splitter import CharacterTextSplitter"
   ],
   "id": "277e1c6857486d25",
   "outputs": [],
   "execution_count": 3
  },
  {
   "metadata": {
    "ExecuteTime": {
     "end_time": "2025-07-14T20:24:48.337192Z",
     "start_time": "2025-07-14T20:24:48.334Z"
    }
   },
   "cell_type": "code",
   "source": [
    "MODEL = 'gpt-4o-mini'\n",
    "db_name = 'vector_db'"
   ],
   "id": "e0442a5c4e4bcf60",
   "outputs": [],
   "execution_count": 4
  },
  {
   "metadata": {
    "ExecuteTime": {
     "end_time": "2025-07-14T20:24:49.239133Z",
     "start_time": "2025-07-14T20:24:49.235234Z"
    }
   },
   "cell_type": "code",
   "source": "folders = glob.glob(\"week5/knowledge-base/*\")",
   "id": "b48a74a15d070103",
   "outputs": [],
   "execution_count": 5
  },
  {
   "metadata": {
    "ExecuteTime": {
     "end_time": "2025-07-14T20:24:50.029458Z",
     "start_time": "2025-07-14T20:24:50.023974Z"
    }
   },
   "cell_type": "code",
   "source": "folders",
   "id": "77066f92c6613f3c",
   "outputs": [
    {
     "data": {
      "text/plain": [
       "['week5/knowledge-base/products',\n",
       " 'week5/knowledge-base/contracts',\n",
       " 'week5/knowledge-base/company',\n",
       " 'week5/knowledge-base/employees']"
      ]
     },
     "execution_count": 6,
     "metadata": {},
     "output_type": "execute_result"
    }
   ],
   "execution_count": 6
  },
  {
   "metadata": {
    "ExecuteTime": {
     "end_time": "2025-07-14T20:24:51.555869Z",
     "start_time": "2025-07-14T20:24:51.552912Z"
    }
   },
   "cell_type": "code",
   "source": "text_loader_kwargs = {'encoding': 'utf-8'}",
   "id": "4fb674629bbf524",
   "outputs": [],
   "execution_count": 7
  },
  {
   "metadata": {
    "ExecuteTime": {
     "end_time": "2025-07-14T20:24:52.483189Z",
     "start_time": "2025-07-14T20:24:52.479761Z"
    }
   },
   "cell_type": "code",
   "source": "documents = []",
   "id": "8c115b6ebfca2226",
   "outputs": [],
   "execution_count": 8
  },
  {
   "metadata": {
    "ExecuteTime": {
     "end_time": "2025-07-14T20:24:53.553614Z",
     "start_time": "2025-07-14T20:24:53.542241Z"
    }
   },
   "cell_type": "code",
   "source": [
    "for folder in folders:\n",
    "    doc_type = os.path.basename(folder)\n",
    "    #print(doc_type)\n",
    "    loader = DirectoryLoader(folder, glob = \"**/*.md\", loader_cls = TextLoader, loader_kwargs = text_loader_kwargs)\n",
    "    folder_docs = loader.load()\n",
    "    for doc in folder_docs:\n",
    "        doc.metadata[\"doc_type\"] = doc_type\n",
    "        documents.append(doc)"
   ],
   "id": "e023cb8edfd01d0",
   "outputs": [],
   "execution_count": 9
  },
  {
   "metadata": {
    "ExecuteTime": {
     "end_time": "2025-07-14T20:24:55.037141Z",
     "start_time": "2025-07-14T20:24:55.033074Z"
    }
   },
   "cell_type": "code",
   "source": "len(documents)",
   "id": "d0379ad5ac8b1990",
   "outputs": [
    {
     "data": {
      "text/plain": [
       "31"
      ]
     },
     "execution_count": 10,
     "metadata": {},
     "output_type": "execute_result"
    }
   ],
   "execution_count": 10
  },
  {
   "metadata": {},
   "cell_type": "code",
   "outputs": [],
   "execution_count": null,
   "source": "",
   "id": "c40c7029987ad959"
  }
 ],
 "metadata": {},
 "nbformat": 4,
 "nbformat_minor": 5
}
