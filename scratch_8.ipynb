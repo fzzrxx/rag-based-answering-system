{
 "cells": [
  {
   "metadata": {
    "ExecuteTime": {
     "end_time": "2025-07-14T20:24:46.105688Z",
     "start_time": "2025-07-14T20:24:46.103126Z"
    }
   },
   "cell_type": "code",
   "source": [
    "import os\n",
    "import glob\n",
    "from dotenv import load_dotenv\n",
    "import gradio as gr"
   ],
   "id": "88c980090526547f",
   "outputs": [],
   "execution_count": 2
  },
  {
   "metadata": {
    "ExecuteTime": {
     "end_time": "2025-07-14T20:24:47.369991Z",
     "start_time": "2025-07-14T20:24:47.315888Z"
    }
   },
   "cell_type": "code",
   "source": [
    "from langchain.document_loaders import DirectoryLoader, TextLoader\n",
    "from langchain.text_splitter import CharacterTextSplitter"
   ],
   "id": "277e1c6857486d25",
   "outputs": [],
   "execution_count": 3
  },
  {
   "metadata": {
    "ExecuteTime": {
     "end_time": "2025-07-14T20:24:48.337192Z",
     "start_time": "2025-07-14T20:24:48.334Z"
    }
   },
   "cell_type": "code",
   "source": [
    "MODEL = 'gpt-4o-mini'\n",
    "db_name = 'vector_db'"
   ],
   "id": "e0442a5c4e4bcf60",
   "outputs": [],
   "execution_count": 4
  },
  {
   "metadata": {
    "ExecuteTime": {
     "end_time": "2025-07-14T20:24:49.239133Z",
     "start_time": "2025-07-14T20:24:49.235234Z"
    }
   },
   "cell_type": "code",
   "source": "folders = glob.glob(\"week5/knowledge-base/*\")",
   "id": "b48a74a15d070103",
   "outputs": [],
   "execution_count": 5
  },
  {
   "metadata": {
    "ExecuteTime": {
     "end_time": "2025-07-14T20:24:50.029458Z",
     "start_time": "2025-07-14T20:24:50.023974Z"
    }
   },
   "cell_type": "code",
   "source": "folders",
   "id": "77066f92c6613f3c",
   "outputs": [
    {
     "data": {
      "text/plain": [
       "['week5/knowledge-base/products',\n",
       " 'week5/knowledge-base/contracts',\n",
       " 'week5/knowledge-base/company',\n",
       " 'week5/knowledge-base/employees']"
      ]
     },
     "execution_count": 6,
     "metadata": {},
     "output_type": "execute_result"
    }
   ],
   "execution_count": 6
  },
  {
   "metadata": {
    "ExecuteTime": {
     "end_time": "2025-07-14T20:24:51.555869Z",
     "start_time": "2025-07-14T20:24:51.552912Z"
    }
   },
   "cell_type": "code",
   "source": "text_loader_kwargs = {'encoding': 'utf-8'}",
   "id": "4fb674629bbf524",
   "outputs": [],
   "execution_count": 7
  },
  {
   "metadata": {
    "ExecuteTime": {
     "end_time": "2025-07-14T20:37:10.798288Z",
     "start_time": "2025-07-14T20:37:10.795828Z"
    }
   },
   "cell_type": "code",
   "source": "documents = []",
   "id": "8c115b6ebfca2226",
   "outputs": [],
   "execution_count": 14
  },
  {
   "metadata": {
    "ExecuteTime": {
     "end_time": "2025-07-14T20:37:11.609288Z",
     "start_time": "2025-07-14T20:37:11.597862Z"
    }
   },
   "cell_type": "code",
   "source": [
    "for folder in folders:\n",
    "    doc_type = os.path.basename(folder)\n",
    "    #print(doc_type)\n",
    "    loader = DirectoryLoader(folder, glob = \"**/*.md\", loader_cls = TextLoader, loader_kwargs = text_loader_kwargs)\n",
    "    folder_docs = loader.load()\n",
    "    for doc in folder_docs:\n",
    "        doc.metadata[\"doc_type\"] = doc_type\n",
    "        documents.append(doc)"
   ],
   "id": "e023cb8edfd01d0",
   "outputs": [],
   "execution_count": 15
  },
  {
   "metadata": {
    "ExecuteTime": {
     "end_time": "2025-07-14T20:37:12.461441Z",
     "start_time": "2025-07-14T20:37:12.455299Z"
    }
   },
   "cell_type": "code",
   "source": "len(documents)",
   "id": "d0379ad5ac8b1990",
   "outputs": [
    {
     "data": {
      "text/plain": [
       "31"
      ]
     },
     "execution_count": 16,
     "metadata": {},
     "output_type": "execute_result"
    }
   ],
   "execution_count": 16
  },
  {
   "metadata": {
    "ExecuteTime": {
     "end_time": "2025-07-14T20:37:42.100164Z",
     "start_time": "2025-07-14T20:37:42.093597Z"
    }
   },
   "cell_type": "code",
   "source": [
    "text_splitter = CharacterTextSplitter(chunk_size = 1000, chunk_overlap = 200)\n",
    "chunks = text_splitter.split_documents(documents)"
   ],
   "id": "c40c7029987ad959",
   "outputs": [
    {
     "name": "stderr",
     "output_type": "stream",
     "text": [
      "Created a chunk of size 1088, which is longer than the specified 1000\n"
     ]
    }
   ],
   "execution_count": 19
  },
  {
   "metadata": {
    "ExecuteTime": {
     "end_time": "2025-07-14T20:40:55.167791Z",
     "start_time": "2025-07-14T20:40:55.163582Z"
    }
   },
   "cell_type": "code",
   "source": "chunks[4]",
   "id": "eab9abda3368024c",
   "outputs": [
    {
     "data": {
      "text/plain": [
       "Document(metadata={'source': 'week5/knowledge-base/products/Rellm.md', 'doc_type': 'products'}, page_content='Experience the future of reinsurance with Rellm, where innovation meets reliability. Let Insurellm help you navigate the complexities of the reinsurance market smarter and faster.')"
      ]
     },
     "execution_count": 23,
     "metadata": {},
     "output_type": "execute_result"
    }
   ],
   "execution_count": 23
  },
  {
   "metadata": {
    "ExecuteTime": {
     "end_time": "2025-07-14T20:55:57.474415Z",
     "start_time": "2025-07-14T20:55:57.466326Z"
    }
   },
   "cell_type": "code",
   "source": "chunks[4].metadata",
   "id": "e3099d4a3aad6277",
   "outputs": [
    {
     "data": {
      "text/plain": [
       "{'source': 'week5/knowledge-base/products/Rellm.md', 'doc_type': 'products'}"
      ]
     },
     "execution_count": 24,
     "metadata": {},
     "output_type": "execute_result"
    }
   ],
   "execution_count": 24
  },
  {
   "metadata": {
    "ExecuteTime": {
     "end_time": "2025-07-14T20:56:16.060595Z",
     "start_time": "2025-07-14T20:56:16.056063Z"
    }
   },
   "cell_type": "code",
   "source": "chunks[4].metadata['doc_type']",
   "id": "769e921ce69a5148",
   "outputs": [
    {
     "data": {
      "text/plain": [
       "'products'"
      ]
     },
     "execution_count": 25,
     "metadata": {},
     "output_type": "execute_result"
    }
   ],
   "execution_count": 25
  },
  {
   "metadata": {
    "ExecuteTime": {
     "end_time": "2025-07-14T20:56:55.466823Z",
     "start_time": "2025-07-14T20:56:55.464536Z"
    }
   },
   "cell_type": "code",
   "source": [
    "doc_types = set()\n",
    "for items in chunks:\n",
    "    doc_types.add(items.metadata['doc_type'])"
   ],
   "id": "69a036c9bcdb8bcb",
   "outputs": [],
   "execution_count": 27
  },
  {
   "metadata": {
    "ExecuteTime": {
     "end_time": "2025-07-14T20:56:59.868032Z",
     "start_time": "2025-07-14T20:56:59.864480Z"
    }
   },
   "cell_type": "code",
   "source": "doc_types",
   "id": "4e894e9cb54e5851",
   "outputs": [
    {
     "data": {
      "text/plain": [
       "{'company', 'contracts', 'employees', 'products'}"
      ]
     },
     "execution_count": 28,
     "metadata": {},
     "output_type": "execute_result"
    }
   ],
   "execution_count": 28
  },
  {
   "metadata": {},
   "cell_type": "code",
   "outputs": [],
   "execution_count": null,
   "source": "",
   "id": "7f447f6ee1bfe882"
  }
 ],
 "metadata": {},
 "nbformat": 4,
 "nbformat_minor": 5
}
